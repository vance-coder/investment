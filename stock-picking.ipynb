{
 "cells": [
  {
   "cell_type": "code",
   "execution_count": 1,
   "id": "c5e015d6-70d2-40bf-9782-bb9b022d7e0e",
   "metadata": {},
   "outputs": [],
   "source": [
    "import time\n",
    "from datetime import datetime\n",
    "\n",
    "import akshare as ak\n"
   ]
  },
  {
   "cell_type": "code",
   "execution_count": 2,
   "id": "9c02fae0-cbad-42d3-931e-935ac2196164",
   "metadata": {},
   "outputs": [
    {
     "data": {
      "text/plain": [
       "'\\nVersion 2:\\n\\n1. 以00 60开头 [主板]\\n2. 2.8 < 换手率 < 20, 量比大于1.2 [足够活跃, 又不至于出货]\\n3. 振幅 > 6.5% \\n4. (-2 <= 涨跌幅 <= 5.5) [收在-2到5.5之间]\\n5. 上影线是实体的1.5倍以上\\n6. 下引线小于2.3\\n\\n7. 10MA > 20MA \\n8. 最高价高于50个交易日的收盘价\\n9. 收盘价离10MA比较近（-4%内）,并且站上10日线的\\n10.收盘价离20MA不超过（-8内）\\n'"
      ]
     },
     "execution_count": 2,
     "metadata": {},
     "output_type": "execute_result"
    }
   ],
   "source": [
    "\n",
    "\"\"\"\n",
    "Version 2:\n",
    "\n",
    "1. 以00 60开头 [主板]\n",
    "2. 2.8 < 换手率 < 20, 量比大于1.2 [足够活跃, 又不至于出货]\n",
    "3. 振幅 > 6.5% \n",
    "4. (-2 <= 涨跌幅 <= 5.5) [收在-2到5.5之间]\n",
    "5. 上影线是实体的1.5倍以上\n",
    "6. 下引线小于2.3\n",
    "\n",
    "7. 10MA > 20MA \n",
    "8. 最高价高于50个交易日的收盘价\n",
    "9. 收盘价离10MA比较近（-4%内）,并且站上10日线的\n",
    "10.收盘价离20MA不超过（-8内）\n",
    "\"\"\""
   ]
  },
  {
   "cell_type": "code",
   "execution_count": 5,
   "id": "c0a8eba0-3409-4d7a-98eb-76347146cbc4",
   "metadata": {},
   "outputs": [],
   "source": [
    "\n",
    "def ma_calculate(df):\n",
    "    ma_list = [5, 10, 20, 60, 120]\n",
    "\n",
    "    for ma_len in ma_list:\n",
    "        df['ma_' + str(ma_len)] = df['收盘'].rolling(ma_len).mean()\n",
    "\n",
    "    return df.fillna(0)\n",
    "\n",
    "\n",
    "def max_close_price_calculate(df):\n",
    "    # 计算45个交易日的最高收盘价\n",
    "    df['max_45'] = df['收盘'].rolling(45).max()\n",
    "    return df\n",
    "\n",
    "\n",
    "def detail_stock(symbol):\n",
    "    \"\"\"\n",
    "    '日期', '开盘', '收盘', '最高', '最低', '成交量', '成交额', '振幅', '涨跌幅', '涨跌额', '换手率'\n",
    "    :return:\n",
    "    \"\"\"\n",
    "    time.sleep(4)  # 担心封ip\n",
    "    print(symbol)\n",
    "    today = datetime.now().strftime('%Y%m%d')\n",
    "    stock_zh_a_hist_df = ak.stock_zh_a_hist(symbol=symbol, period=\"daily\", start_date=\"20220910\", end_date=today,\n",
    "                                            adjust=\"qfq\")\n",
    "\n",
    "    df = ma_calculate(stock_zh_a_hist_df)\n",
    "    df = max_close_price_calculate(df)\n",
    "\n",
    "    # 偏离10日均线点数\n",
    "    df['deviate_ma_10'] = (df['收盘'] - df['ma_10']) / df['收盘'] * 100\n",
    "    # 偏离20日均线点数\n",
    "    df['deviate_ma_20'] = (df['收盘'] - df['ma_20']) / df['收盘'] * 100\n",
    "\n",
    "    return df\n",
    "\n",
    "\n",
    "def get_trade(symbol):\n",
    "    \"\"\"\n",
    "    获取行业信息\n",
    "    :param symbol:\n",
    "    :return:\n",
    "    \"\"\"\n",
    "    df = ak.stock_individual_info_em(symbol=symbol)\n",
    "    dct = dict(zip(df['item'], df['value']))\n",
    "\n",
    "    return dct['行业']\n",
    "\n",
    "\n",
    "def filter_stock(symbol):\n",
    "    \"\"\"\n",
    "    10MA > 20MA\n",
    "    最高价高于45个交易日的收盘价\n",
    "    股价运行于季线之上\n",
    "    收盘价离10AM比较近（-4%内）,并且站上10日线的\n",
    "    收盘价离20AM比较近（-8%内）,盈亏比考虑，生命线20日线不能太远\n",
    "    :param symbol:\n",
    "    :return:\n",
    "    \"\"\"\n",
    "    time.sleep(2)\n",
    "    df = detail_stock(symbol)\n",
    "    data = df.iloc[-1].to_dict()\n",
    "\n",
    "    cond1 = data['ma_10'] >= data['ma_20']*0.98\n",
    "    cond2 = data['最高'] * 1.05 >= data['max_45']\n",
    "    cond3 = -0.25 < data['deviate_ma_10'] <= 5\n",
    "    cond4 = -0.25 < data['deviate_ma_20'] <= 8\n",
    "    cond5 = data['收盘'] >= data['ma_60']\n",
    "\n",
    "    if cond1 and cond2 and cond3 and cond4 and cond5:\n",
    "        return True\n",
    "\n",
    "    return False\n"
   ]
  },
  {
   "cell_type": "code",
   "execution_count": 6,
   "id": "678c862f-33e6-4580-b56d-f43ad7eb1dfd",
   "metadata": {},
   "outputs": [
    {
     "name": "stdout",
     "output_type": "stream",
     "text": [
      "5357\n",
      "3377\n",
      "需要查询的数量： 22\n",
      "603388\n",
      "002817\n",
      "600481\n",
      "600605\n",
      "600071\n",
      "603860\n",
      "002805\n",
      "002800\n",
      "600556\n",
      "002941\n",
      "001301\n",
      "002997\n",
      "002173\n",
      "600536\n",
      "002302\n",
      "002929\n",
      "603603\n",
      "002167\n",
      "603138\n",
      "600749\n",
      "600728\n",
      "002912\n",
      "2\n"
     ]
    },
    {
     "data": {
      "text/html": [
       "<div>\n",
       "<style scoped>\n",
       "    .dataframe tbody tr th:only-of-type {\n",
       "        vertical-align: middle;\n",
       "    }\n",
       "\n",
       "    .dataframe tbody tr th {\n",
       "        vertical-align: top;\n",
       "    }\n",
       "\n",
       "    .dataframe thead th {\n",
       "        text-align: right;\n",
       "    }\n",
       "</style>\n",
       "<table border=\"1\" class=\"dataframe\">\n",
       "  <thead>\n",
       "    <tr style=\"text-align: right;\">\n",
       "      <th></th>\n",
       "      <th>代码</th>\n",
       "      <th>名称</th>\n",
       "      <th>行业</th>\n",
       "      <th>最新价</th>\n",
       "      <th>涨跌幅</th>\n",
       "    </tr>\n",
       "  </thead>\n",
       "  <tbody>\n",
       "    <tr>\n",
       "      <th>246</th>\n",
       "      <td>600481</td>\n",
       "      <td>双良节能</td>\n",
       "      <td>通用设备</td>\n",
       "      <td>15.84</td>\n",
       "      <td>4.55</td>\n",
       "    </tr>\n",
       "    <tr>\n",
       "      <th>380</th>\n",
       "      <td>600556</td>\n",
       "      <td>天下秀</td>\n",
       "      <td>文化传媒</td>\n",
       "      <td>9.27</td>\n",
       "      <td>3.46</td>\n",
       "    </tr>\n",
       "  </tbody>\n",
       "</table>\n",
       "</div>"
      ],
      "text/plain": [
       "         代码    名称    行业    最新价   涨跌幅\n",
       "246  600481  双良节能  通用设备  15.84  4.55\n",
       "380  600556   天下秀  文化传媒   9.27  3.46"
      ]
     },
     "execution_count": 6,
     "metadata": {},
     "output_type": "execute_result"
    }
   ],
   "source": [
    "\n",
    "\n",
    "def generate():\n",
    "    stock_zh_a_spot_em_df = ak.stock_zh_a_spot_em()\n",
    "    print(len(stock_zh_a_spot_em_df))\n",
    "    df = stock_zh_a_spot_em_df[\n",
    "        stock_zh_a_spot_em_df['代码'].str.startswith('00') | stock_zh_a_spot_em_df['代码'].str.startswith('60')]\n",
    "\n",
    "    print(len(df))\n",
    "    \"\"\"\n",
    "    Index(['序号', '代码', '名称', '最新价', '涨跌幅', '涨跌额', '成交量', '成交额', '振幅', '最高', '最低',\n",
    "           '今开', '昨收', '量比', '换手率', '市盈率-动态', '市净率', '总市值', '流通市值', '涨速', '5分钟涨跌',\n",
    "           '60日涨跌幅', '年初至今涨跌幅'],\n",
    "    \"\"\"\n",
    "    # TODO 最近上引线也可以，但是需要趋势向上\n",
    "\n",
    "    # 流通市值在 15亿 到 500亿之间\n",
    "    min_market_value = 18 * (10 ** 8)\n",
    "    max_market_value =1000 * (10 ** 8)\n",
    "    df = df[(min_market_value <= df['流通市值']) & (df['流通市值'] <= max_market_value)]\n",
    "\n",
    "    # max price\n",
    "    df['max_price'] = df[['今开', '最新价']].max(axis=1)\n",
    "    df['min_price'] = df[['今开', '最新价']].min(axis=1)\n",
    "\n",
    "    # 上引线长度\n",
    "    df['upper_lead'] = (df['最高'] - df['max_price']) / df['昨收'] * 100\n",
    "\n",
    "    # 实体长度\n",
    "    df['len_of_entity'] = abs(df['最新价'] - df['今开']) / df['昨收'] * 100\n",
    "\n",
    "    # 下引线长度\n",
    "    df['lower_lead'] = (df['min_price'] - df['最低']) / df['昨收'] * 100\n",
    "\n",
    "    # 条件筛选\n",
    "    # 换手率大于 2.8, 小于25 【真实的换手率其实需要排除掉一些实控人的资金，再计算的，这里不算严格】\n",
    "    df = df[(df['换手率'] > 2.8) & (df['换手率'] < 25)]\n",
    "\n",
    "    # 量比大于1.2 放量的\n",
    "    df = df[df['量比'] > 1.2]\n",
    "\n",
    "    # 振幅大于 6.5\n",
    "    df = df[df['振幅'] > 6]\n",
    "\n",
    "    # (-2 <= 涨跌幅 <= 5.5) [收在-2到5.5之间]\n",
    "    df = df[(-2 < df['涨跌幅']) & (df['涨跌幅'] <= 5.5)]\n",
    "\n",
    "    # 上影线是实体的0.5倍以上 【放宽条件，后续进行人工筛选】\n",
    "    ndf = df[df['upper_lead'] >= df['len_of_entity'] * 0.5]\n",
    "\n",
    "    # 下引线小于2.3\n",
    "    ndf = ndf[ndf['lower_lead'] < 2.5]\n",
    "    \n",
    "    print('需要查询的数量：', len(ndf))\n",
    "\n",
    "    # 根据均线和趋势过滤\n",
    "    ndf['filter'] = ndf['代码'].map(lambda x: filter_stock(x))\n",
    "\n",
    "    ndf.insert(loc=3, column='行业', value=ndf['代码'].map(lambda x: get_trade(x)))\n",
    "\n",
    "    ndf = ndf[ndf['filter']]\n",
    "\n",
    "    print(len(ndf))\n",
    "    # ndf.to_excel('result.xlsx', index=False)\n",
    "    return ndf\n",
    "\n",
    "\n",
    "# generate()\n",
    "ndf = generate()\n",
    "ndf[['代码', '名称', '行业', '最新价', '涨跌幅']]\n"
   ]
  },
  {
   "cell_type": "code",
   "execution_count": 13,
   "id": "9ecfcaa2-f0c5-40f7-a5d9-6a4e0d730f91",
   "metadata": {},
   "outputs": [],
   "source": [
    "# 回测方案：\n",
    "# 直接买入，\n",
    "\n",
    "# 筛选股票的上引线\n",
    "# 第二天开盘价买入\n",
    "# 第三天竞价卖出\n",
    "\n",
    "# TODO\n",
    "提前缓存数据\n",
    "画图\n",
    "三线缠绕\n",
    "\n",
    "\n",
    "# 要点\n",
    "5日线-20日线 差距在2.2个点内\n",
    "5日前，10日线 大于 20日线（避免下跌趋势）\n",
    "似乎十字星成功率高很多\n",
    "\n",
    "# 不预测涨跌，要做的是都有应对方案"
   ]
  },
  {
   "cell_type": "code",
   "execution_count": null,
   "id": "d80c3f8e-2fb9-4fba-8e6e-3be87e0f6461",
   "metadata": {},
   "outputs": [],
   "source": [
    "e0d8734ed0a3476fa8d630dc004ed1bd\n",
    "\n",
    "c8e2f9ac0d044cd8917159b74573b248\n",
    "\n",
    "\n",
    "\n",
    "python3 tools/infer/predict_rec.py --image_dir='/home/aistudio/images/imgs/' --rec_model_dir='./inference/rec_robustcanner/' --rec_algorithm='RobustScanner' --rec_image_shape='3,48,48,160' --rec_char_dict_path='chinese_cht_dict.txt'\n",
    "\n",
    "\n",
    "python3 tools/export_model.py -c configs/rec/rec_r31_robustscanner.yml  -o Global.pretrained_model=./output/rec/rec_r31_robustscanner/best_accuracy Global.save_inference_dir=./inference/rec_robustcanner --fixed_input_shape=[-1,3,48,160]\n"
   ]
  },
  {
   "cell_type": "code",
   "execution_count": 103,
   "id": "5da8426e-fd5d-4693-8f83-2e87029db096",
   "metadata": {},
   "outputs": [
    {
     "data": {
      "text/plain": [
       "5040"
      ]
     },
     "execution_count": 103,
     "metadata": {},
     "output_type": "execute_result"
    }
   ],
   "source": [
    "7*6*5*4*3*2"
   ]
  },
  {
   "cell_type": "code",
   "execution_count": 106,
   "id": "6117c7e5-5b48-4402-a1d1-8e0290b4f97a",
   "metadata": {},
   "outputs": [
    {
     "data": {
      "text/plain": [
       "36"
      ]
     },
     "execution_count": 106,
     "metadata": {},
     "output_type": "execute_result"
    }
   ],
   "source": [
    "len('0123456789abcdefghijklmnopqrstuvwxyz')"
   ]
  },
  {
   "cell_type": "code",
   "execution_count": 4,
   "id": "4ff53b2f-c1d8-4bcf-ad97-66886ccc5bf3",
   "metadata": {},
   "outputs": [
    {
     "data": {
      "text/plain": [
       "72033.89830508475"
      ]
     },
     "execution_count": 4,
     "metadata": {},
     "output_type": "execute_result"
    }
   ],
   "source": []
  },
  {
   "cell_type": "code",
   "execution_count": null,
   "id": "ae9ecb36-5820-42e1-a2cd-9021ebc17c0d",
   "metadata": {},
   "outputs": [],
   "source": []
  }
 ],
 "metadata": {
  "kernelspec": {
   "display_name": "Python 3",
   "language": "python",
   "name": "python3"
  },
  "language_info": {
   "codemirror_mode": {
    "name": "ipython",
    "version": 3
   },
   "file_extension": ".py",
   "mimetype": "text/x-python",
   "name": "python",
   "nbconvert_exporter": "python",
   "pygments_lexer": "ipython3",
   "version": "3.9.12"
  }
 },
 "nbformat": 4,
 "nbformat_minor": 5
}
