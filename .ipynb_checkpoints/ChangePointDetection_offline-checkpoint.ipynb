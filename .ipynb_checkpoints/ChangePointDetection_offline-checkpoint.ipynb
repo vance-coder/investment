{
  "nbformat": 4,
  "nbformat_minor": 0,
  "metadata": {
    "colab": {
      "name": "ChangePointDetection_offline.ipynb",
      "provenance": []
    },
    "kernelspec": {
      "name": "python3",
      "display_name": "Python 3"
    }
  },
  "cells": [
    {
      "cell_type": "code",
      "metadata": {
        "id": "0r27FQn94MVS",
        "outputId": "f8c6ed96-fe10-4585-de77-9111c818b322",
        "colab": {
          "base_uri": "https://localhost:8080/",
          "height": 428
        }
      },
      "source": [
        "!pip install eiapy\n",
        "!pip install ruptures\n",
        "!pip install changefinder"
      ],
      "execution_count": 37,
      "outputs": [
        {
          "output_type": "stream",
          "text": [
            "Requirement already satisfied: eiapy in /usr/local/lib/python3.6/dist-packages (0.1.5)\n",
            "Requirement already satisfied: requests in /usr/local/lib/python3.6/dist-packages (from eiapy) (2.23.0)\n",
            "Requirement already satisfied: chardet<4,>=3.0.2 in /usr/local/lib/python3.6/dist-packages (from requests->eiapy) (3.0.4)\n",
            "Requirement already satisfied: certifi>=2017.4.17 in /usr/local/lib/python3.6/dist-packages (from requests->eiapy) (2020.6.20)\n",
            "Requirement already satisfied: idna<3,>=2.5 in /usr/local/lib/python3.6/dist-packages (from requests->eiapy) (2.10)\n",
            "Requirement already satisfied: urllib3!=1.25.0,!=1.25.1,<1.26,>=1.21.1 in /usr/local/lib/python3.6/dist-packages (from requests->eiapy) (1.24.3)\n",
            "Collecting ruptures\n",
            "\u001b[?25l  Downloading https://files.pythonhosted.org/packages/3b/8e/75a4aba556a9285b1111c7f82febea3bc9ace3efc095ba2987db21bfd2db/ruptures-1.0.5-py3-none-any.whl (56kB)\n",
            "\u001b[K     |████████████████████████████████| 61kB 2.1MB/s \n",
            "\u001b[?25hRequirement already satisfied: scipy in /usr/local/lib/python3.6/dist-packages (from ruptures) (1.4.1)\n",
            "Requirement already satisfied: numpy in /usr/local/lib/python3.6/dist-packages (from ruptures) (1.18.5)\n",
            "Installing collected packages: ruptures\n",
            "Successfully installed ruptures-1.0.5\n",
            "Requirement already satisfied: changefinder in /usr/local/lib/python3.6/dist-packages (0.3)\n",
            "Requirement already satisfied: scipy in /usr/local/lib/python3.6/dist-packages (from changefinder) (1.4.1)\n",
            "Requirement already satisfied: statsmodels in /usr/local/lib/python3.6/dist-packages (from changefinder) (0.10.2)\n",
            "Requirement already satisfied: numpy in /usr/local/lib/python3.6/dist-packages (from changefinder) (1.18.5)\n",
            "Requirement already satisfied: nose in /usr/local/lib/python3.6/dist-packages (from changefinder) (1.3.7)\n",
            "Requirement already satisfied: patsy>=0.4.0 in /usr/local/lib/python3.6/dist-packages (from statsmodels->changefinder) (0.5.1)\n",
            "Requirement already satisfied: pandas>=0.19 in /usr/local/lib/python3.6/dist-packages (from statsmodels->changefinder) (1.1.2)\n",
            "Requirement already satisfied: six in /usr/local/lib/python3.6/dist-packages (from patsy>=0.4.0->statsmodels->changefinder) (1.15.0)\n",
            "Requirement already satisfied: pytz>=2017.2 in /usr/local/lib/python3.6/dist-packages (from pandas>=0.19->statsmodels->changefinder) (2018.9)\n",
            "Requirement already satisfied: python-dateutil>=2.7.3 in /usr/local/lib/python3.6/dist-packages (from pandas>=0.19->statsmodels->changefinder) (2.8.1)\n"
          ],
          "name": "stdout"
        }
      ]
    },
    {
      "cell_type": "code",
      "metadata": {
        "id": "lr-TTt2Y3q90"
      },
      "source": [
        "import pandas as pd\n",
        "import numpy as np\n",
        "import os\n",
        "import eiapy\n",
        "import ruptures as rpt\n",
        "import changefinder as cf \n",
        "import matplotlib.pyplot as plt\n",
        "\n",
        "\n",
        "os.environ['EIA_KEY'] = '27ff8efc1ae33c48b471e12e849049b1'\n",
        "API_KEY = os.environ['EIA_KEY']"
      ],
      "execution_count": 40,
      "outputs": []
    },
    {
      "cell_type": "code",
      "metadata": {
        "id": "Jaa-pgb3D5G_"
      },
      "source": [
        "def retrieve_time_series(apiObj, series_ID):\n",
        "    \"\"\"\n",
        "    Return the time series dataframe,\n",
        "    based on API and unique Series ID\n",
        "    api: API that we're connected to\n",
        "    series_ID: string. Name of the series that we want to pull from the EIA API\n",
        "    \"\"\"\n",
        "    # Retrieve Data By Series ID\n",
        "    series_search = apiObj.data_by_series (series=series_ID)\n",
        "\n",
        "    ##Create a pandas dataframe from the retrieved time series\n",
        "    df = pd.DataFrame(series_search)\n",
        "    return df"
      ],
      "execution_count": 42,
      "outputs": []
    },
    {
      "cell_type": "code",
      "metadata": {
        "id": "SUW5CyaJPiyL"
      },
      "source": [
        ""
      ],
      "execution_count": null,
      "outputs": []
    },
    {
      "cell_type": "code",
      "metadata": {
        "id": "Z6bh7aHqEPPE",
        "outputId": "291a3bf0-a0fd-49ac-9610-e6113afef075",
        "colab": {
          "base_uri": "https://localhost:8080/",
          "height": 198
        }
      },
      "source": [
        "# Create EIA API using your specific API key\n",
        "api_key = '27ff8efc1ae33c48b471e12e849049b1'\n",
        "apiObj = eia.API(api_key)"
      ],
      "execution_count": 46,
      "outputs": [
        {
          "output_type": "error",
          "ename": "NameError",
          "evalue": "ignored",
          "traceback": [
            "\u001b[0;31m---------------------------------------------------------------------------\u001b[0m",
            "\u001b[0;31mNameError\u001b[0m                                 Traceback (most recent call last)",
            "\u001b[0;32m<ipython-input-46-3625f03387f4>\u001b[0m in \u001b[0;36m<module>\u001b[0;34m()\u001b[0m\n\u001b[1;32m      1\u001b[0m \u001b[0;31m# Create EIA API using your specific API key\u001b[0m\u001b[0;34m\u001b[0m\u001b[0;34m\u001b[0m\u001b[0;34m\u001b[0m\u001b[0m\n\u001b[1;32m      2\u001b[0m \u001b[0mapi_key\u001b[0m \u001b[0;34m=\u001b[0m \u001b[0;34m'27ff8efc1ae33c48b471e12e849049b1'\u001b[0m\u001b[0;34m\u001b[0m\u001b[0;34m\u001b[0m\u001b[0m\n\u001b[0;32m----> 3\u001b[0;31m \u001b[0mapiObj\u001b[0m \u001b[0;34m=\u001b[0m \u001b[0meia\u001b[0m\u001b[0;34m.\u001b[0m\u001b[0mAPI\u001b[0m\u001b[0;34m(\u001b[0m\u001b[0mapi_key\u001b[0m\u001b[0;34m)\u001b[0m\u001b[0;34m\u001b[0m\u001b[0;34m\u001b[0m\u001b[0m\n\u001b[0m",
            "\u001b[0;31mNameError\u001b[0m: name 'eia' is not defined"
          ]
        }
      ]
    },
    {
      "cell_type": "code",
      "metadata": {
        "id": "1sGcRcWfD9s7",
        "outputId": "fe926107-bbca-479d-c093-6025a618b7cd",
        "colab": {
          "base_uri": "https://localhost:8080/",
          "height": 232
        }
      },
      "source": [
        "# Pull the oil WTI price data\n",
        "series_ID = 'PET.RWTC.D'\n",
        "price_df = retrieve_time_series(apiObj, series_ID)\n",
        "print(price_df)\n",
        "price_df.reset_index(level=0, inplace=True)"
      ],
      "execution_count": 25,
      "outputs": [
        {
          "output_type": "error",
          "ename": "NameError",
          "evalue": "ignored",
          "traceback": [
            "\u001b[0;31m---------------------------------------------------------------------------\u001b[0m",
            "\u001b[0;31mNameError\u001b[0m                                 Traceback (most recent call last)",
            "\u001b[0;32m<ipython-input-25-6bed1e63f09f>\u001b[0m in \u001b[0;36m<module>\u001b[0;34m()\u001b[0m\n\u001b[1;32m      1\u001b[0m \u001b[0;31m# Pull the oil WTI price data\u001b[0m\u001b[0;34m\u001b[0m\u001b[0;34m\u001b[0m\u001b[0;34m\u001b[0m\u001b[0m\n\u001b[1;32m      2\u001b[0m \u001b[0mseries_ID\u001b[0m \u001b[0;34m=\u001b[0m \u001b[0;34m'PET.RWTC.D'\u001b[0m\u001b[0;34m\u001b[0m\u001b[0;34m\u001b[0m\u001b[0m\n\u001b[0;32m----> 3\u001b[0;31m \u001b[0mprice_df\u001b[0m \u001b[0;34m=\u001b[0m \u001b[0mretrieve_time_series\u001b[0m\u001b[0;34m(\u001b[0m\u001b[0mapiObj\u001b[0m\u001b[0;34m,\u001b[0m \u001b[0mseries_ID\u001b[0m\u001b[0;34m)\u001b[0m\u001b[0;34m\u001b[0m\u001b[0;34m\u001b[0m\u001b[0m\n\u001b[0m\u001b[1;32m      4\u001b[0m \u001b[0mprint\u001b[0m\u001b[0;34m(\u001b[0m\u001b[0mprice_df\u001b[0m\u001b[0;34m)\u001b[0m\u001b[0;34m\u001b[0m\u001b[0;34m\u001b[0m\u001b[0m\n\u001b[1;32m      5\u001b[0m \u001b[0mprice_df\u001b[0m\u001b[0;34m.\u001b[0m\u001b[0mreset_index\u001b[0m\u001b[0;34m(\u001b[0m\u001b[0mlevel\u001b[0m\u001b[0;34m=\u001b[0m\u001b[0;36m0\u001b[0m\u001b[0;34m,\u001b[0m \u001b[0minplace\u001b[0m\u001b[0;34m=\u001b[0m\u001b[0;32mTrue\u001b[0m\u001b[0;34m)\u001b[0m\u001b[0;34m\u001b[0m\u001b[0;34m\u001b[0m\u001b[0m\n",
            "\u001b[0;31mNameError\u001b[0m: name 'apiObj' is not defined"
          ]
        }
      ]
    },
    {
      "cell_type": "code",
      "metadata": {
        "id": "gcLdiiHlEDZE"
      },
      "source": [
        "# Rename the columns for easier analysis\n",
        "price_df.rename(columns={'index':'Date', price_df.columns[1]:'WTI_Price'}, inplace=True)\n",
        "\n",
        "# Format the 'Date' column\n",
        "price_df['Date'] = price_df['Date'].astype(str).str[:-3]\n",
        "\n",
        "# Convert the Date column into a date object\n",
        "price_df['Date']=pd.to_datetime(price_df['Date'], format='%Y %m%d')\n",
        "\n",
        "# Subset to only include data going back to 2014\n",
        "price_df = price_df[(price_df['Date'] >= '2014-01-01')]\n",
        "\n",
        "# Convert the time series values to a numpy 1D array\n",
        "points=np.array(price_df['WTI_Price'])"
      ],
      "execution_count": null,
      "outputs": []
    }
  ]
}