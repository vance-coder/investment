{
 "cells": [
  {
   "cell_type": "code",
   "execution_count": 1,
   "id": "43dc6971-bc1d-43a7-89e8-abfe52c5e76e",
   "metadata": {},
   "outputs": [],
   "source": [
    "import time\n",
    "from datetime import datetime\n",
    "\n",
    "import akshare as ak\n",
    "\n",
    "import pandas as pd"
   ]
  },
  {
   "cell_type": "code",
   "execution_count": 2,
   "id": "6ff61a7f-db70-4c50-b4c7-856f29c40adc",
   "metadata": {},
   "outputs": [],
   "source": [
    "def ma_calculate(df):\n",
    "    ma_list = [5, 10, 20, 60, 120]\n",
    "\n",
    "    for ma_len in ma_list:\n",
    "        df['ma_' + str(ma_len)] = df['收盘'].rolling(ma_len).mean()\n",
    "\n",
    "    return df.fillna(0)\n",
    "\n",
    "\n",
    "def max_close_price_calculate(df):\n",
    "    # 计算45个交易日的最高收盘价\n",
    "    df['max_45'] = df['收盘'].rolling(45).max()\n",
    "    return df\n",
    "\n",
    "\n",
    "def detail_stock(symbol):\n",
    "    \"\"\"\n",
    "    '日期', '开盘', '收盘', '最高', '最低', '成交量', '成交额', '振幅', '涨跌幅', '涨跌额', '换手率'\n",
    "    :return:\n",
    "    \"\"\"\n",
    "    time.sleep(1)  # 担心封ip\n",
    "    today = datetime.now().strftime('%Y%m%d')\n",
    "    # today = '20220827'\n",
    "    stock_zh_a_hist_df = ak.stock_zh_a_hist(symbol=symbol, period=\"daily\", start_date=\"20220810\", end_date=today,\n",
    "                                            adjust=\"qfq\")\n",
    "    \n",
    "    if stock_zh_a_hist_df.empty:\n",
    "        return \n",
    "\n",
    "    df = ma_calculate(stock_zh_a_hist_df)\n",
    "    df = max_close_price_calculate(df)\n",
    "\n",
    "    # 偏离10日均线点数\n",
    "    df['deviate_ma_10'] = (df['收盘'] - df['ma_10']) / df['收盘'] * 100\n",
    "    # 偏离20日均线点数\n",
    "    df['deviate_ma_20'] = (df['收盘'] - df['ma_20']) / df['收盘'] * 100\n",
    "    \n",
    "    # max price\n",
    "    df['max_price'] = df[['开盘', '收盘']].max(axis=1)\n",
    "    df['min_price'] = df[['开盘', '收盘']].min(axis=1)\n",
    "    \n",
    "    # 计算昨日收盘价\n",
    "    df['昨收'] = df['收盘'] - df['涨跌额']\n",
    "\n",
    "    # 上引线长度\n",
    "    df['upper_lead'] = (df['最高'] - df['max_price']) / df['昨收'] * 100\n",
    "\n",
    "    # 实体长度\n",
    "    df['len_of_entity'] = abs(df['收盘'] - df['开盘']) / df['昨收'] * 100\n",
    "\n",
    "    # 下引线长度\n",
    "    df['lower_lead'] = (df['min_price'] - df['最低']) / df['昨收'] * 100\n",
    "\n",
    "    return df"
   ]
  },
  {
   "cell_type": "code",
   "execution_count": 3,
   "id": "f4dd39d4-2242-4c09-ad0b-149e20d1d8d8",
   "metadata": {},
   "outputs": [
    {
     "name": "stdout",
     "output_type": "stream",
     "text": [
      "3377\n"
     ]
    }
   ],
   "source": [
    "stock_zh_a_spot_em_df = ak.stock_zh_a_spot_em()\n",
    "df = stock_zh_a_spot_em_df[\n",
    "    stock_zh_a_spot_em_df['代码'].str.startswith('00') | stock_zh_a_spot_em_df['代码'].str.startswith('60')]\n",
    "\n",
    "code_list = df['代码'].tolist()\n",
    "print(len(code_list))"
   ]
  },
  {
   "cell_type": "code",
   "execution_count": 4,
   "id": "38adb2ea-527e-41b9-8074-1c1b31a2036f",
   "metadata": {},
   "outputs": [
    {
     "data": {
      "text/plain": [
       "3284"
      ]
     },
     "execution_count": 4,
     "metadata": {},
     "output_type": "execute_result"
    }
   ],
   "source": [
    "import os\n",
    "\n",
    "files = os.listdir('daily_data/')\n",
    "symbol_list = [f.split('.')[0] for f in files]\n",
    "len(symbol_list)"
   ]
  },
  {
   "cell_type": "code",
   "execution_count": 6,
   "id": "08985bd2-350d-47a6-87a9-7d33de5db495",
   "metadata": {},
   "outputs": [
    {
     "name": "stdout",
     "output_type": "stream",
     "text": [
      "600991\n",
      "('Connection aborted.', ConnectionResetError(54, 'Connection reset by peer'))\n",
      "600890\n",
      "('Connection aborted.', ConnectionResetError(54, 'Connection reset by peer'))\n",
      "600656\n",
      "('Connection aborted.', ConnectionResetError(54, 'Connection reset by peer'))\n",
      "600632\n",
      "('Connection aborted.', ConnectionResetError(54, 'Connection reset by peer'))\n",
      "000556\n",
      "('Connection aborted.', ConnectionResetError(54, 'Connection reset by peer'))\n",
      "20\n"
     ]
    }
   ],
   "source": [
    "import json\n",
    "from datetime import datetime\n",
    "\n",
    "def read_data():\n",
    "    with open('update.json') as fp:\n",
    "        return json.loads(fp.read())\n",
    "    \n",
    "def update_data(data):\n",
    "    with open('update.json', 'w+') as fp:\n",
    "        fp.write(json.dumps(data))\n",
    "\n",
    "#update_data(data)\n",
    "data = read_data()\n",
    "\n",
    "count = 0\n",
    "\n",
    "today_line_str = datetime.now().strftime('%Y%m%d')+'15'\n",
    "\n",
    "for symbol in code_list:\n",
    "    now_str = datetime.now().strftime('%Y%m%d%H')\n",
    "    \n",
    "    dt_str = data.get(symbol, '')\n",
    "    # print(today_line_str, now_str)\n",
    "    if dt_str and dt_str >= today_line_str:\n",
    "        continue\n",
    "    \n",
    "    # symbol = '603366'\n",
    "    try:\n",
    "        df = detail_stock(symbol)\n",
    "        if df is None:\n",
    "            continue\n",
    "        df.to_csv('daily_data/'+symbol+'.csv', index=False)\n",
    "        \n",
    "    except Exception as e:\n",
    "        print(symbol)\n",
    "        print(e)\n",
    "        time.sleep(5)\n",
    "        continue\n",
    "    \n",
    "    count += 1\n",
    "    if count % 20 == 0:\n",
    "        print(count)\n",
    "        update_data(data)\n",
    "    \n",
    "    data[symbol] = now_str\n",
    "\n",
    "update_data(data)\n"
   ]
  },
  {
   "cell_type": "code",
   "execution_count": null,
   "id": "de1e1ce7-ec26-483d-a864-92fc5abb110b",
   "metadata": {},
   "outputs": [],
   "source": []
  }
 ],
 "metadata": {
  "kernelspec": {
   "display_name": "Python 3",
   "language": "python",
   "name": "python3"
  },
  "language_info": {
   "codemirror_mode": {
    "name": "ipython",
    "version": 3
   },
   "file_extension": ".py",
   "mimetype": "text/x-python",
   "name": "python",
   "nbconvert_exporter": "python",
   "pygments_lexer": "ipython3",
   "version": "3.9.12"
  }
 },
 "nbformat": 4,
 "nbformat_minor": 5
}
