{
 "cells": [
  {
   "cell_type": "code",
   "execution_count": 34,
   "id": "7db85850-1442-4ef6-a845-db72a9171524",
   "metadata": {},
   "outputs": [],
   "source": [
    "import akshare as ak\n",
    "\n",
    "# df = ak.tool_trade_date_hist_sina()\n",
    "\n",
    "df = ak.fund_new_found_em()\n"
   ]
  },
  {
   "cell_type": "code",
   "execution_count": 35,
   "id": "604e770c-0a05-4651-980e-7c83e9ff5002",
   "metadata": {},
   "outputs": [],
   "source": [
    "from pretty_html_table import build_table\n",
    "\n",
    "html_table_blue_light = build_table(df, 'grey_light')\n",
    "\n",
    "# Save to html file\n",
    "with open('pretty_table.html', 'w') as f:\n",
    "    f.write(html_table_blue_light)\n",
    "\n"
   ]
  },
  {
   "cell_type": "code",
   "execution_count": 40,
   "id": "3b26242e-1728-4796-9cfc-14ae5b40383b",
   "metadata": {},
   "outputs": [
    {
     "data": {
      "text/plain": [
       "{'基金代码': {0: '018216', 1: '018201', 2: '018200', 3: '018182', 4: '018183'},\n",
       " '基金简称': {0: '长城久恒灵活配置混合C',\n",
       "  1: '嘉实恒生消费指数发起(QDII)C',\n",
       "  2: '嘉实恒生消费指数发起(QDII)A',\n",
       "  3: '万家中证软件服务指数发起式A',\n",
       "  4: '万家中证软件服务指数发起式C'},\n",
       " '发行公司': {0: '长城基金', 1: '嘉实基金', 2: '嘉实基金', 3: '万家基金', 4: '万家基金'},\n",
       " '基金类型': {0: '混合型-灵活', 1: 'QDII', 2: 'QDII', 3: '指数型-股票', 4: '指数型-股票'},\n",
       " '集中认购期': {0: '23/04/03～23/04/03',\n",
       "  1: '23/03/30～23/04/06',\n",
       "  2: '23/03/30～23/04/06',\n",
       "  3: '23/03/27～23/03/27',\n",
       "  4: '23/03/27～23/03/27'},\n",
       " '募集份额': {0: nan, 1: 0.13, 2: 0.13, 3: 0.1, 4: 0.1},\n",
       " '成立日期': {0: datetime.date(2023, 4, 3),\n",
       "  1: datetime.date(2023, 4, 11),\n",
       "  2: datetime.date(2023, 4, 11),\n",
       "  3: datetime.date(2023, 3, 29),\n",
       "  4: datetime.date(2023, 3, 29)},\n",
       " '成立来涨幅': {0: 7.79, 1: 0.07, 2: 0.07, 3: -7.26, 4: -7.27},\n",
       " '基金经理': {0: '储雯玉', 1: '刘珈吟', 2: '刘珈吟', 3: '杨坤', 4: '杨坤'},\n",
       " '申购状态': {0: '开放申购', 1: '开放申购', 2: '开放申购', 3: '开放申购', 4: '开放申购'},\n",
       " '优惠费率': {0: 0.0, 1: 0.0, 2: 0.1, 3: 0.1, 4: 0.0}}"
      ]
     },
     "execution_count": 40,
     "metadata": {},
     "output_type": "execute_result"
    }
   ],
   "source": [
    "dct = df.head().to_dict()\n",
    "import pandas as pd\n",
    "# pd.DataFrame(dct)\n",
    "dct"
   ]
  },
  {
   "cell_type": "code",
   "execution_count": 5,
   "id": "550db999-6eed-4ee6-adb3-c1fd55f03a62",
   "metadata": {},
   "outputs": [
    {
     "data": {
      "text/html": [
       "<div>\n",
       "<style scoped>\n",
       "    .dataframe tbody tr th:only-of-type {\n",
       "        vertical-align: middle;\n",
       "    }\n",
       "\n",
       "    .dataframe tbody tr th {\n",
       "        vertical-align: top;\n",
       "    }\n",
       "\n",
       "    .dataframe thead th {\n",
       "        text-align: right;\n",
       "    }\n",
       "</style>\n",
       "<table border=\"1\" class=\"dataframe\">\n",
       "  <thead>\n",
       "    <tr style=\"text-align: right;\">\n",
       "      <th></th>\n",
       "      <th>trade_date</th>\n",
       "    </tr>\n",
       "  </thead>\n",
       "  <tbody>\n",
       "    <tr>\n",
       "      <th>0</th>\n",
       "      <td>1990-12-19</td>\n",
       "    </tr>\n",
       "    <tr>\n",
       "      <th>1</th>\n",
       "      <td>1990-12-20</td>\n",
       "    </tr>\n",
       "    <tr>\n",
       "      <th>2</th>\n",
       "      <td>1990-12-21</td>\n",
       "    </tr>\n",
       "    <tr>\n",
       "      <th>3</th>\n",
       "      <td>1990-12-24</td>\n",
       "    </tr>\n",
       "    <tr>\n",
       "      <th>4</th>\n",
       "      <td>1990-12-25</td>\n",
       "    </tr>\n",
       "    <tr>\n",
       "      <th>...</th>\n",
       "      <td>...</td>\n",
       "    </tr>\n",
       "    <tr>\n",
       "      <th>8065</th>\n",
       "      <td>2023-12-25</td>\n",
       "    </tr>\n",
       "    <tr>\n",
       "      <th>8066</th>\n",
       "      <td>2023-12-26</td>\n",
       "    </tr>\n",
       "    <tr>\n",
       "      <th>8067</th>\n",
       "      <td>2023-12-27</td>\n",
       "    </tr>\n",
       "    <tr>\n",
       "      <th>8068</th>\n",
       "      <td>2023-12-28</td>\n",
       "    </tr>\n",
       "    <tr>\n",
       "      <th>8069</th>\n",
       "      <td>2023-12-29</td>\n",
       "    </tr>\n",
       "  </tbody>\n",
       "</table>\n",
       "<p>8070 rows × 1 columns</p>\n",
       "</div>"
      ],
      "text/plain": [
       "      trade_date\n",
       "0     1990-12-19\n",
       "1     1990-12-20\n",
       "2     1990-12-21\n",
       "3     1990-12-24\n",
       "4     1990-12-25\n",
       "...          ...\n",
       "8065  2023-12-25\n",
       "8066  2023-12-26\n",
       "8067  2023-12-27\n",
       "8068  2023-12-28\n",
       "8069  2023-12-29\n",
       "\n",
       "[8070 rows x 1 columns]"
      ]
     },
     "execution_count": 5,
     "metadata": {},
     "output_type": "execute_result"
    }
   ],
   "source": [
    "# 判断是否需要更新数据\n",
    "from datetime import datetime\n",
    "now_str = datetime.now().strftime('%Y-%m-%d')\n",
    "\n",
    "tool_trade_date_hist_sina_df"
   ]
  },
  {
   "cell_type": "code",
   "execution_count": 28,
   "id": "e158731a-8ace-453e-82d4-9f6f1fffada7",
   "metadata": {},
   "outputs": [
    {
     "data": {
      "text/plain": [
       "True"
      ]
     },
     "execution_count": 28,
     "metadata": {},
     "output_type": "execute_result"
    }
   ],
   "source": [
    "from bisect import bisect_right\n",
    "tool_trade_date_hist_sina_df['trade_date'] = tool_trade_date_hist_sina_df['trade_date'].astype(str)\n",
    "idx = bisect_right(tool_trade_date_hist_sina_df['trade_date'].tolist(), now_str)\n",
    "val = tool_trade_date_hist_sina_df.iloc[idx - 1].to_dict().get('trade_date')\n",
    "\n",
    "lastest_date_str = datetime.now().strftime('%Y-%m-%d-%H')\n",
    "last_update = val + '-15'\n",
    "first_update = val + '-10'\n",
    "\n",
    "flag = lastest_date_str >= last_update or lastest_date_str <= first_update\n",
    "\n",
    "flag"
   ]
  },
  {
   "cell_type": "code",
   "execution_count": null,
   "id": "27013cdb-c26d-46a2-82a4-59f1b9753493",
   "metadata": {},
   "outputs": [],
   "source": []
  },
  {
   "cell_type": "code",
   "execution_count": null,
   "id": "b63b022e-8695-40f0-a87d-3856c5789740",
   "metadata": {},
   "outputs": [],
   "source": [
    "import json\n",
    "import smtplib\n",
    "from email.mime.text import MIMEText\n",
    "from email.header import Header\n",
    "from email.message import EmailMessage\n",
    "from email.mime.multipart import MIMEMultipart\n",
    "\n",
    "\n",
    "html_msg = pd.DataFrame(dct).to_html()\n",
    "html_msg= \"<html>\" + html_msg + \"</html>\"\n",
    "\n",
    "\n",
    "key = 'letadehhnxtpbdca'\n",
    "EMAIL_ADDRESS = 'wikizeros@qq.com'\n",
    "EMAIL_PASSWORD = key\n",
    "context = ssl.create_default_context()\n",
    "sender = EMAIL_ADDRESS\n",
    "receiver = ['vance.coder@139.com']\n",
    "\n",
    "subject = \"subject here\"\n",
    "body = 'test html table'\n",
    "msg = MIMEText()\n",
    "msg['subject'] = subject\n",
    "msg['From'] = sender\n",
    "msg['To'] = receiver\n",
    "msg.set_content(body)\n",
    "\n",
    "# msg.attach(MIMEText(html_msg, \"html\", \"utf-8\"))\n",
    "\n",
    "with smtplib.SMTP_SSL(\"smtp.qq.com\", 465, context=context) as smtp:\n",
    "    # smtp.set_debuglevel(1)\n",
    "    smtp.ehlo('smtp.qq.com')\n",
    "    smtp.login(EMAIL_ADDRESS, EMAIL_PASSWORD)\n",
    "    smtp.send_message(msg)\n",
    "    \n"
   ]
  },
  {
   "cell_type": "code",
   "execution_count": 119,
   "id": "905d744b-6bd0-46a6-9ac3-4b32cdf45e19",
   "metadata": {},
   "outputs": [],
   "source": [
    "import pymongo\n",
    "from datetime import datetime\n",
    "\n",
    "# docker pull mongo:latest\n",
    "# docker run -itd --name mongo -p 27017:27017 mongo\n",
    "\n",
    "myclient = pymongo.MongoClient(\"mongodb://localhost:27017/\")\n",
    "mydb = myclient[\"dbs\"]\n",
    "quo_col = mydb.quotation\n",
    "concept = mydb.concept"
   ]
  },
  {
   "cell_type": "code",
   "execution_count": 102,
   "id": "62f272a9-e638-4df7-bf62-0b0ed3b00751",
   "metadata": {},
   "outputs": [],
   "source": [
    "import akshare as ak\n",
    "symbol='600418'\n",
    "\n",
    "stock_zh_a_hist_df = ak.stock_zh_a_hist(symbol=symbol, period=\"daily\", start_date=\"20220810\", end_date=\"20230512\",\n",
    "                                            adjust=\"qfq\")\n",
    "\n",
    "dct = stock_zh_a_hist_df.to_dict(orient='records')\n",
    "now_datetime = datetime.now().strftime('%Y-%m-%d %H:%M:%S')\n",
    "data = {\n",
    "    '_id':symbol,\n",
    "    'time': now_datetime,\n",
    "    'data': dct\n",
    "}\n"
   ]
  },
  {
   "cell_type": "code",
   "execution_count": 103,
   "id": "c2bc5afe-d186-4ab8-9d4d-5d80c6650f11",
   "metadata": {},
   "outputs": [
    {
     "data": {
      "text/plain": [
       "<pymongo.results.UpdateResult at 0x12cef5280>"
      ]
     },
     "execution_count": 103,
     "metadata": {},
     "output_type": "execute_result"
    }
   ],
   "source": [
    "quo_col.update_one({'_id': symbol}, {'$set': data}, upsert=True)"
   ]
  },
  {
   "cell_type": "code",
   "execution_count": 118,
   "id": "efb304c8-fe3a-4048-9fa0-38eff9d9a116",
   "metadata": {},
   "outputs": [
    {
     "data": {
      "text/plain": [
       "'2023-05-13 00:51:21'"
      ]
     },
     "execution_count": 118,
     "metadata": {},
     "output_type": "execute_result"
    }
   ],
   "source": [
    "quo_col.find_one({'_id': symbol})['time']"
   ]
  },
  {
   "cell_type": "code",
   "execution_count": null,
   "id": "82785f56-d00a-4719-8928-b5fc1ad2fb26",
   "metadata": {},
   "outputs": [],
   "source": [
    "concept.find_one()"
   ]
  },
  {
   "cell_type": "code",
   "execution_count": null,
   "id": "8598313d-2cbb-4b82-9820-02aeb5138cb0",
   "metadata": {},
   "outputs": [],
   "source": []
  },
  {
   "cell_type": "code",
   "execution_count": null,
   "id": "0f9a2e6d-32e8-4417-a767-21844dd18201",
   "metadata": {},
   "outputs": [],
   "source": []
  }
 ],
 "metadata": {
  "kernelspec": {
   "display_name": "Python 3",
   "language": "python",
   "name": "python3"
  },
  "language_info": {
   "codemirror_mode": {
    "name": "ipython",
    "version": 3
   },
   "file_extension": ".py",
   "mimetype": "text/x-python",
   "name": "python",
   "nbconvert_exporter": "python",
   "pygments_lexer": "ipython3",
   "version": "3.9.12"
  }
 },
 "nbformat": 4,
 "nbformat_minor": 5
}
